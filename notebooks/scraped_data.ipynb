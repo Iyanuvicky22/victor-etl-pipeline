{
 "cells": [
  {
   "cell_type": "markdown",
   "metadata": {},
   "source": [
    "## Data Loading"
   ]
  },
  {
   "cell_type": "code",
   "execution_count": 5,
   "metadata": {},
   "outputs": [],
   "source": [
    "import pandas as pd\n",
    "pd.set_option(\"display.max_columns\", None)"
   ]
  },
  {
   "cell_type": "code",
   "execution_count": 6,
   "metadata": {},
   "outputs": [],
   "source": [
    "df_1 = pd.read_csv(r'..\\data\\19-07-2025_1000movies_df')\n",
    "df_2 = pd.read_csv(r'..\\data\\19-07-2025_imdb_movies_series_df')"
   ]
  },
  {
   "cell_type": "markdown",
   "metadata": {},
   "source": [
    "## Summarized Wrangling"
   ]
  },
  {
   "cell_type": "code",
   "execution_count": 7,
   "metadata": {},
   "outputs": [],
   "source": [
    "# Making all steps into a functions\n",
    "\n",
    "def clean_df_1(data: pd.DataFrame) -> pd.DataFrame:\n",
    "    # Renaming columns\n",
    "    df_1_new = data.rename({\n",
    "                    'Series_Title':'title', 'Overview':'description', \n",
    "                    'IMDB_Rating': 'rating', 'No_of_Votes':'votes_count',\n",
    "                    'Released_Year': 'release_year', 'Gross': 'total_sales',\n",
    "                    'Runtime':'runtime', 'Genre':'genres', 'Director': 'director'\n",
    "                }, axis=1)\n",
    "    \n",
    "    # Creating a new column\n",
    "    df_1_new.loc[:,'type'] = 'movie'\n",
    "\n",
    "    return df_1_new\n",
    "\n",
    "\n",
    "def clean_df_2(data: pd.DataFrame) -> pd.DataFrame:\n",
    "\n",
    "    # Renaming choosen columns.\n",
    "    df_2_new = data.rename({\n",
    "                    'originalTitle':'title', 'averageRating': 'rating',\n",
    "                    'numVotes':'votes_count',\n",
    "                    'grossWorldwide': 'total_sales',\n",
    "                    'runtimeMinutes':'runtime',\n",
    "                    'startYear': 'release_year'\n",
    "                }, axis=1)\n",
    "    \n",
    "    # Dropping Duplicates\n",
    "    df_2_dup_dropped = df_2_new.drop_duplicates().reset_index().drop('index', axis=1)\n",
    "\n",
    "    # Converting list rows in genre column to string\n",
    "    df_2_dup_dropped['genres'] = df_2_dup_dropped['genres'].str.replace(r'\\[|\\]|\\'','', regex=True)\n",
    "\n",
    "    # Creating a new column\n",
    "    df_2_dup_dropped.loc[:,'director'] = None\n",
    "\n",
    "    return df_2_dup_dropped\n",
    "\n",
    "\n",
    "def join_dfs(df_1000: pd.DataFrame, df_imdb: pd.DataFrame) -> pd.DataFrame:\n",
    "    \"\"\"\n",
    "    Joining the two cleaned data for further transformation\n",
    "\n",
    "    Returns:\n",
    "        pd.DataFrame: Joined dataframe\n",
    "    \"\"\"\n",
    "    try:\n",
    "        data_1 = clean_df_1(data=df_1000)\n",
    "        data_2 = clean_df_2(data=df_imdb)\n",
    "\n",
    "        frames = [data_1, data_2]\n",
    "        new_df = pd.concat(\n",
    "            frames, join='inner', ignore_index=True\n",
    "            ).drop_duplicates(\n",
    "                subset='title'\n",
    "                ).reset_index(\n",
    "                    drop=True\n",
    "                    )\n",
    "        return new_df\n",
    "    except Exception as e:\n",
    "        print(\"error raised: \", e)\n"
   ]
  },
  {
   "cell_type": "markdown",
   "metadata": {},
   "source": [
    "## Data Preview"
   ]
  },
  {
   "cell_type": "code",
   "execution_count": 9,
   "metadata": {},
   "outputs": [],
   "source": [
    "joined_df = join_dfs(df_1, df_2)\n",
    "joined_df.to_csv(\"../data/joined_df.csv\")"
   ]
  },
  {
   "cell_type": "code",
   "execution_count": 14,
   "metadata": {},
   "outputs": [
    {
     "name": "stdout",
     "output_type": "stream",
     "text": [
      "<class 'pandas.core.frame.DataFrame'>\n",
      "RangeIndex: 1692 entries, 0 to 1691\n",
      "Data columns (total 11 columns):\n",
      " #   Column        Non-Null Count  Dtype  \n",
      "---  ------        --------------  -----  \n",
      " 0   Unnamed: 0    1692 non-null   int64  \n",
      " 1   title         1692 non-null   object \n",
      " 2   release_year  1692 non-null   object \n",
      " 3   runtime       1364 non-null   object \n",
      " 4   genres        1692 non-null   object \n",
      " 5   rating        1673 non-null   float64\n",
      " 6   description   1689 non-null   object \n",
      " 7   director      999 non-null    object \n",
      " 8   votes_count   1692 non-null   int64  \n",
      " 9   total_sales   1050 non-null   object \n",
      " 10  type          1692 non-null   object \n",
      "dtypes: float64(1), int64(2), object(8)\n",
      "memory usage: 145.5+ KB\n"
     ]
    }
   ],
   "source": [
    "joined_df.info()"
   ]
  },
  {
   "cell_type": "code",
   "execution_count": 15,
   "metadata": {},
   "outputs": [
    {
     "data": {
      "text/html": [
       "<div>\n",
       "<style scoped>\n",
       "    .dataframe tbody tr th:only-of-type {\n",
       "        vertical-align: middle;\n",
       "    }\n",
       "\n",
       "    .dataframe tbody tr th {\n",
       "        vertical-align: top;\n",
       "    }\n",
       "\n",
       "    .dataframe thead th {\n",
       "        text-align: right;\n",
       "    }\n",
       "</style>\n",
       "<table border=\"1\" class=\"dataframe\">\n",
       "  <thead>\n",
       "    <tr style=\"text-align: right;\">\n",
       "      <th></th>\n",
       "      <th>Unnamed: 0</th>\n",
       "      <th>title</th>\n",
       "      <th>release_year</th>\n",
       "      <th>runtime</th>\n",
       "      <th>genres</th>\n",
       "      <th>rating</th>\n",
       "      <th>description</th>\n",
       "      <th>director</th>\n",
       "      <th>votes_count</th>\n",
       "      <th>total_sales</th>\n",
       "      <th>type</th>\n",
       "    </tr>\n",
       "  </thead>\n",
       "  <tbody>\n",
       "    <tr>\n",
       "      <th>0</th>\n",
       "      <td>0</td>\n",
       "      <td>The Shawshank Redemption</td>\n",
       "      <td>1994</td>\n",
       "      <td>142 min</td>\n",
       "      <td>Drama</td>\n",
       "      <td>9.3</td>\n",
       "      <td>Two imprisoned men bond over a number of years...</td>\n",
       "      <td>Frank Darabont</td>\n",
       "      <td>2343110</td>\n",
       "      <td>28,341,469</td>\n",
       "      <td>movie</td>\n",
       "    </tr>\n",
       "    <tr>\n",
       "      <th>1</th>\n",
       "      <td>1</td>\n",
       "      <td>The Godfather</td>\n",
       "      <td>1972</td>\n",
       "      <td>175 min</td>\n",
       "      <td>Crime, Drama</td>\n",
       "      <td>9.2</td>\n",
       "      <td>An organized crime dynasty's aging patriarch t...</td>\n",
       "      <td>Francis Ford Coppola</td>\n",
       "      <td>1620367</td>\n",
       "      <td>134,966,411</td>\n",
       "      <td>movie</td>\n",
       "    </tr>\n",
       "  </tbody>\n",
       "</table>\n",
       "</div>"
      ],
      "text/plain": [
       "   Unnamed: 0                     title release_year  runtime        genres  \\\n",
       "0           0  The Shawshank Redemption         1994  142 min         Drama   \n",
       "1           1             The Godfather         1972  175 min  Crime, Drama   \n",
       "\n",
       "   rating                                        description  \\\n",
       "0     9.3  Two imprisoned men bond over a number of years...   \n",
       "1     9.2  An organized crime dynasty's aging patriarch t...   \n",
       "\n",
       "               director  votes_count  total_sales   type  \n",
       "0        Frank Darabont      2343110   28,341,469  movie  \n",
       "1  Francis Ford Coppola      1620367  134,966,411  movie  "
      ]
     },
     "execution_count": 15,
     "metadata": {},
     "output_type": "execute_result"
    }
   ],
   "source": [
    "joined_df.head(2)"
   ]
  }
 ],
 "metadata": {
  "kernelspec": {
   "display_name": "src-py3.13",
   "language": "python",
   "name": "python3"
  },
  "language_info": {
   "codemirror_mode": {
    "name": "ipython",
    "version": 3
   },
   "file_extension": ".py",
   "mimetype": "text/x-python",
   "name": "python",
   "nbconvert_exporter": "python",
   "pygments_lexer": "ipython3",
   "version": "3.13.5"
  }
 },
 "nbformat": 4,
 "nbformat_minor": 2
}
