{
 "cells": [
  {
   "cell_type": "code",
   "execution_count": 108,
   "metadata": {},
   "outputs": [],
   "source": [
    "import pandas as pd"
   ]
  },
  {
   "cell_type": "code",
   "execution_count": 79,
   "metadata": {},
   "outputs": [],
   "source": [
    "joined_df = pd.read_csv('C:/Users/APIN PC/OneDrive/Documents/DS/DE_Inter/etl_pipeline/data/Joined_data')"
   ]
  },
  {
   "cell_type": "code",
   "execution_count": 80,
   "metadata": {},
   "outputs": [
    {
     "name": "stdout",
     "output_type": "stream",
     "text": [
      "<class 'pandas.core.frame.DataFrame'>\n",
      "RangeIndex: 1993 entries, 0 to 1992\n",
      "Data columns (total 11 columns):\n",
      " #   Column        Non-Null Count  Dtype  \n",
      "---  ------        --------------  -----  \n",
      " 0   title         1993 non-null   object \n",
      " 1   release_year  1993 non-null   object \n",
      " 2   runtime       1654 non-null   object \n",
      " 3   genres        1993 non-null   object \n",
      " 4   rating        1977 non-null   float64\n",
      " 5   description   1984 non-null   object \n",
      " 6   director      1000 non-null   object \n",
      " 7   votes_count   1977 non-null   float64\n",
      " 8   total_sales   1334 non-null   object \n",
      " 9   type          1993 non-null   object \n",
      " 10  budget        408 non-null    float64\n",
      "dtypes: float64(3), object(8)\n",
      "memory usage: 171.4+ KB\n"
     ]
    }
   ],
   "source": [
    "joined_df.info()"
   ]
  },
  {
   "cell_type": "markdown",
   "metadata": {},
   "source": [
    "####  `Convert runtime to integer.`\n",
    "#### `Convert total sales to float`\n",
    "#### `Drop other missing values`\n",
    "#### `Convert release year to date (year)`\n",
    "#### `Dropping director and budget column?`\n"
   ]
  },
  {
   "cell_type": "code",
   "execution_count": null,
   "metadata": {},
   "outputs": [
    {
     "name": "stdout",
     "output_type": "stream",
     "text": [
      "<class 'pandas.core.frame.DataFrame'>\n",
      "Index: 1973 entries, 0 to 1992\n",
      "Data columns (total 10 columns):\n",
      " #   Column        Non-Null Count  Dtype  \n",
      "---  ------        --------------  -----  \n",
      " 0   title         1973 non-null   object \n",
      " 1   release_year  1973 non-null   object \n",
      " 2   runtime       1647 non-null   float64\n",
      " 3   genres        1973 non-null   object \n",
      " 4   rating        1973 non-null   float64\n",
      " 5   description   1973 non-null   object \n",
      " 6   director      1000 non-null   object \n",
      " 7   votes_count   1973 non-null   float64\n",
      " 8   total_sales   1334 non-null   float64\n",
      " 9   type          1973 non-null   object \n",
      "dtypes: float64(4), object(6)\n",
      "memory usage: 169.6+ KB\n"
     ]
    }
   ],
   "source": [
    "def transform_df() -> pd.DataFrame:\n",
    "    \"\"\"\n",
    "    Transform joined dataframe \n",
    "    Returns:\n",
    "        _type_: _description_\n",
    "    \"\"\"\n",
    "    # Changing Object Types\n",
    "    joined_df['runtime'] = joined_df['runtime'].astype(str).str.extract(r'(\\d+)') # Extract only integer value.\n",
    "    joined_df['runtime'] = pd.to_numeric(joined_df['runtime'], errors='coerce') # Change column to numeric\n",
    "    joined_df['total_sales']= joined_df['total_sales'].astype(str).replace(r'\\,', '', regex=True).astype(float)\n",
    "    joined_df.loc[joined_df['release_year'] == 'PG', 'release_year'] = '1995' # Changing wrong release year to the right one.\n",
    "    pd.to_datetime(joined_df['release_year'], format= '%Y').dt.year # Changing column to date type.\n",
    "    # Treating NAs and Dropping Unwanted Columns\n",
    "    joined_df = joined_df.dropna(subset=['votes_count', 'rating', 'description']) # Dropping unwanted missing values.\n",
    "    joined_df = joined_df.drop(columns=['budget']) # Dropping budget column \n",
    "    \n",
    "    return joined_df\n"
   ]
  },
  {
   "cell_type": "code",
   "execution_count": 129,
   "metadata": {},
   "outputs": [
    {
     "data": {
      "text/plain": [
       "title             0\n",
       "release_year      0\n",
       "runtime         326\n",
       "genres            0\n",
       "rating            0\n",
       "description       0\n",
       "director        973\n",
       "votes_count       0\n",
       "total_sales     639\n",
       "type              0\n",
       "dtype: int64"
      ]
     },
     "execution_count": 129,
     "metadata": {},
     "output_type": "execute_result"
    }
   ],
   "source": [
    "joined_df.describe()\n",
    "joined_df.isna().sum()"
   ]
  },
  {
   "cell_type": "markdown",
   "metadata": {},
   "source": [
    "I intentionally left missing values so as to show some peculiarities of the scraped data.\n",
    "E.g Type column consists of -> movie, tvseries and tvshortseries, \n",
    "Only movie have record for runtime. Both tvseries and tvshortseries are null. \n",
    "It could mean that tvseries are still running or that the IMDb does not keep record of series runtime. "
   ]
  },
  {
   "cell_type": "code",
   "execution_count": 130,
   "metadata": {},
   "outputs": [
    {
     "data": {
      "text/plain": [
       "Index(['title', 'release_year', 'runtime', 'genres', 'rating', 'description',\n",
       "       'director', 'votes_count', 'total_sales', 'type'],\n",
       "      dtype='object')"
      ]
     },
     "execution_count": 130,
     "metadata": {},
     "output_type": "execute_result"
    }
   ],
   "source": [
    "joined_df.columns"
   ]
  },
  {
   "cell_type": "markdown",
   "metadata": {},
   "source": []
  }
 ],
 "metadata": {
  "kernelspec": {
   "display_name": ".venv",
   "language": "python",
   "name": "python3"
  },
  "language_info": {
   "codemirror_mode": {
    "name": "ipython",
    "version": 3
   },
   "file_extension": ".py",
   "mimetype": "text/x-python",
   "name": "python",
   "nbconvert_exporter": "python",
   "pygments_lexer": "ipython3",
   "version": "3.13.2"
  }
 },
 "nbformat": 4,
 "nbformat_minor": 2
}
