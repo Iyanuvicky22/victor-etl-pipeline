{
 "cells": [
  {
   "cell_type": "code",
   "execution_count": 1,
   "metadata": {},
   "outputs": [],
   "source": [
    "import pandas as pd\n",
    "pd.set_option(\"display.max_columns\", None)"
   ]
  },
  {
   "cell_type": "code",
   "execution_count": 23,
   "metadata": {},
   "outputs": [],
   "source": [
    "joined_df = pd.read_csv('C:/Users/APIN PC/OneDrive/Documents/DS/DE_Inter/etl_pipeline/data/Joined_data')\n",
    "new_joined_df = pd.read_csv('C:/Users/APIN PC/OneDrive/Documents/DS/DE_Inter/etl_pipeline/31-03-25 Call.csv')"
   ]
  },
  {
   "cell_type": "code",
   "execution_count": null,
   "metadata": {},
   "outputs": [
    {
     "data": {
      "text/html": [
       "<div>\n",
       "<style scoped>\n",
       "    .dataframe tbody tr th:only-of-type {\n",
       "        vertical-align: middle;\n",
       "    }\n",
       "\n",
       "    .dataframe tbody tr th {\n",
       "        vertical-align: top;\n",
       "    }\n",
       "\n",
       "    .dataframe thead th {\n",
       "        text-align: right;\n",
       "    }\n",
       "</style>\n",
       "<table border=\"1\" class=\"dataframe\">\n",
       "  <thead>\n",
       "    <tr style=\"text-align: right;\">\n",
       "      <th></th>\n",
       "      <th>Unnamed: 0</th>\n",
       "      <th>title</th>\n",
       "      <th>release_year</th>\n",
       "      <th>runtime</th>\n",
       "      <th>genres</th>\n",
       "      <th>rating</th>\n",
       "      <th>description</th>\n",
       "      <th>director</th>\n",
       "      <th>votes_count</th>\n",
       "      <th>total_sales</th>\n",
       "      <th>type</th>\n",
       "      <th>metascore</th>\n",
       "    </tr>\n",
       "  </thead>\n",
       "  <tbody>\n",
       "    <tr>\n",
       "      <th>0</th>\n",
       "      <td>0</td>\n",
       "      <td>The Shawshank Redemption</td>\n",
       "      <td>1994.0</td>\n",
       "      <td>142.0</td>\n",
       "      <td>Drama</td>\n",
       "      <td>9.3</td>\n",
       "      <td>Two imprisoned men bond over a number of years...</td>\n",
       "      <td>Frank Darabont</td>\n",
       "      <td>2343110.0</td>\n",
       "      <td>28341469.0</td>\n",
       "      <td>movie</td>\n",
       "      <td>NaN</td>\n",
       "    </tr>\n",
       "    <tr>\n",
       "      <th>1</th>\n",
       "      <td>1</td>\n",
       "      <td>The Godfather</td>\n",
       "      <td>1972.0</td>\n",
       "      <td>175.0</td>\n",
       "      <td>Crime, Drama</td>\n",
       "      <td>9.2</td>\n",
       "      <td>An organized crime dynasty's aging patriarch t...</td>\n",
       "      <td>Francis Ford Coppola</td>\n",
       "      <td>1620367.0</td>\n",
       "      <td>134966411.0</td>\n",
       "      <td>movie</td>\n",
       "      <td>NaN</td>\n",
       "    </tr>\n",
       "    <tr>\n",
       "      <th>2</th>\n",
       "      <td>2</td>\n",
       "      <td>The Dark Knight</td>\n",
       "      <td>2008.0</td>\n",
       "      <td>152.0</td>\n",
       "      <td>Action, Crime, Drama</td>\n",
       "      <td>9.0</td>\n",
       "      <td>When the menace known as the Joker wreaks havo...</td>\n",
       "      <td>Christopher Nolan</td>\n",
       "      <td>2303232.0</td>\n",
       "      <td>534858444.0</td>\n",
       "      <td>movie</td>\n",
       "      <td>NaN</td>\n",
       "    </tr>\n",
       "    <tr>\n",
       "      <th>3</th>\n",
       "      <td>3</td>\n",
       "      <td>The Godfather: Part II</td>\n",
       "      <td>1974.0</td>\n",
       "      <td>202.0</td>\n",
       "      <td>Crime, Drama</td>\n",
       "      <td>9.0</td>\n",
       "      <td>The early life and career of Vito Corleone in ...</td>\n",
       "      <td>Francis Ford Coppola</td>\n",
       "      <td>1129952.0</td>\n",
       "      <td>57300000.0</td>\n",
       "      <td>movie</td>\n",
       "      <td>NaN</td>\n",
       "    </tr>\n",
       "    <tr>\n",
       "      <th>4</th>\n",
       "      <td>4</td>\n",
       "      <td>12 Angry Men</td>\n",
       "      <td>1957.0</td>\n",
       "      <td>96.0</td>\n",
       "      <td>Crime, Drama</td>\n",
       "      <td>9.0</td>\n",
       "      <td>A jury holdout attempts to prevent a miscarria...</td>\n",
       "      <td>Sidney Lumet</td>\n",
       "      <td>689845.0</td>\n",
       "      <td>4360000.0</td>\n",
       "      <td>movie</td>\n",
       "      <td>NaN</td>\n",
       "    </tr>\n",
       "  </tbody>\n",
       "</table>\n",
       "</div>"
      ],
      "text/plain": [
       "   Unnamed: 0                     title  release_year  runtime  \\\n",
       "0           0  The Shawshank Redemption        1994.0    142.0   \n",
       "1           1             The Godfather        1972.0    175.0   \n",
       "2           2           The Dark Knight        2008.0    152.0   \n",
       "3           3    The Godfather: Part II        1974.0    202.0   \n",
       "4           4              12 Angry Men        1957.0     96.0   \n",
       "\n",
       "                 genres  rating  \\\n",
       "0                 Drama     9.3   \n",
       "1          Crime, Drama     9.2   \n",
       "2  Action, Crime, Drama     9.0   \n",
       "3          Crime, Drama     9.0   \n",
       "4          Crime, Drama     9.0   \n",
       "\n",
       "                                         description              director  \\\n",
       "0  Two imprisoned men bond over a number of years...        Frank Darabont   \n",
       "1  An organized crime dynasty's aging patriarch t...  Francis Ford Coppola   \n",
       "2  When the menace known as the Joker wreaks havo...     Christopher Nolan   \n",
       "3  The early life and career of Vito Corleone in ...  Francis Ford Coppola   \n",
       "4  A jury holdout attempts to prevent a miscarria...          Sidney Lumet   \n",
       "\n",
       "   votes_count  total_sales   type  metascore  \n",
       "0    2343110.0   28341469.0  movie        NaN  \n",
       "1    1620367.0  134966411.0  movie        NaN  \n",
       "2    2303232.0  534858444.0  movie        NaN  \n",
       "3    1129952.0   57300000.0  movie        NaN  \n",
       "4     689845.0    4360000.0  movie        NaN  "
      ]
     },
     "execution_count": 24,
     "metadata": {},
     "output_type": "execute_result"
    }
   ],
   "source": [
    "joined_df.head()\n",
    "new_joined_df.head()\n"
   ]
  },
  {
   "cell_type": "markdown",
   "metadata": {},
   "source": [
    "####  `Convert runtime to integer.`\n",
    "#### `Convert total sales to float`\n",
    "#### `Drop other missing values`\n",
    "#### `Convert release year to date (year)`\n",
    "#### `Dropping director and budget column?`\n"
   ]
  },
  {
   "cell_type": "code",
   "execution_count": null,
   "metadata": {},
   "outputs": [
    {
     "data": {
      "text/html": [
       "<div>\n",
       "<style scoped>\n",
       "    .dataframe tbody tr th:only-of-type {\n",
       "        vertical-align: middle;\n",
       "    }\n",
       "\n",
       "    .dataframe tbody tr th {\n",
       "        vertical-align: top;\n",
       "    }\n",
       "\n",
       "    .dataframe thead th {\n",
       "        text-align: right;\n",
       "    }\n",
       "</style>\n",
       "<table border=\"1\" class=\"dataframe\">\n",
       "  <thead>\n",
       "    <tr style=\"text-align: right;\">\n",
       "      <th></th>\n",
       "      <th>Unnamed: 0</th>\n",
       "      <th>title</th>\n",
       "      <th>release_year</th>\n",
       "      <th>runtime</th>\n",
       "      <th>genres</th>\n",
       "      <th>rating</th>\n",
       "      <th>description</th>\n",
       "      <th>director</th>\n",
       "      <th>votes_count</th>\n",
       "      <th>total_sales</th>\n",
       "      <th>type</th>\n",
       "      <th>metascore</th>\n",
       "    </tr>\n",
       "  </thead>\n",
       "  <tbody>\n",
       "    <tr>\n",
       "      <th>1250</th>\n",
       "      <td>1250</td>\n",
       "      <td>A Working Man</td>\n",
       "      <td>2025.0</td>\n",
       "      <td>116.0</td>\n",
       "      <td>Action, Thriller</td>\n",
       "      <td>6.2</td>\n",
       "      <td>Levon Cade left his profession behind to work ...</td>\n",
       "      <td>NaN</td>\n",
       "      <td>3710.0</td>\n",
       "      <td>30215874.0</td>\n",
       "      <td>movie</td>\n",
       "      <td>NaN</td>\n",
       "    </tr>\n",
       "  </tbody>\n",
       "</table>\n",
       "</div>"
      ],
      "text/plain": [
       "      Unnamed: 0          title  release_year  runtime            genres  \\\n",
       "1250        1250  A Working Man        2025.0    116.0  Action, Thriller   \n",
       "\n",
       "      rating                                        description director  \\\n",
       "1250     6.2  Levon Cade left his profession behind to work ...      NaN   \n",
       "\n",
       "      votes_count  total_sales   type  metascore  \n",
       "1250       3710.0   30215874.0  movie        NaN  "
      ]
     },
     "execution_count": 29,
     "metadata": {},
     "output_type": "execute_result"
    }
   ],
   "source": [
    "new_joined_df.loc[new_joined_df[''] == 'A Working Man']"
   ]
  },
  {
   "cell_type": "code",
   "execution_count": 75,
   "metadata": {},
   "outputs": [],
   "source": [
    "\n",
    "from shlex import join\n",
    "\n",
    "\n",
    "def transform_df(data) -> pd.DataFrame:\n",
    "    \"\"\"\n",
    "    Transform joined dataframe \n",
    "    Returns:\n",
    "        _type_: _description_\n",
    "    \"\"\"\n",
    "    joined_df  = data\n",
    "\n",
    "    joined_df = joined_df.dropna(\n",
    "        subset=[\"votes_count\", \"rating\", \"description\", \"release_year\"])\n",
    "    # Changing Object Types\n",
    "    joined_df['runtime'] = joined_df['runtime'].astype(str).str.extract(r'(\\d+)') # Extract only integer value.\n",
    "    joined_df['runtime'] = pd.to_numeric(joined_df['runtime'], errors='coerce') # Change column to numeric\n",
    "    joined_df['total_sales']= joined_df['total_sales'].astype(str).replace(r'\\,', '', regex=True).astype(float)\n",
    "    joined_df.loc[joined_df['release_year'] == 'PG', 'release_year'] = '1995' # Changing wrong release year to the right one.\n",
    "    \n",
    "    # pd.to_datetime(joined_df['release_year'], format= '%Y').dt.year # Changing column to date type.\n",
    "    # Treating NAs and Dropping Unwanted Columns\n",
    "    # joined_df[\"release_year\"] = pd.to_numeric(joined_df[\"release_year\"], errors='coerce')\n",
    "    joined_df['release_year'] = joined_df['release_year'].astype(int).astype(str)\n",
    "    joined_df = joined_df.dropna(\n",
    "        subset=[\"votes_count\", \"rating\", \"description\", \"release_year\"]\n",
    "    )\n",
    "    joined_df['rating'] = joined_df[\n",
    "        'rating'].astype(float)\n",
    "    \n",
    "    return joined_df\n"
   ]
  },
  {
   "cell_type": "code",
   "execution_count": 76,
   "metadata": {},
   "outputs": [
    {
     "name": "stdout",
     "output_type": "stream",
     "text": [
      "<class 'pandas.core.frame.DataFrame'>\n",
      "Index: 1953 entries, 0 to 1953\n",
      "Data columns (total 12 columns):\n",
      " #   Column        Non-Null Count  Dtype  \n",
      "---  ------        --------------  -----  \n",
      " 0   Unnamed: 0    1953 non-null   int64  \n",
      " 1   title         1953 non-null   object \n",
      " 2   release_year  1953 non-null   object \n",
      " 3   runtime       1636 non-null   float64\n",
      " 4   genres        1952 non-null   object \n",
      " 5   rating        1953 non-null   float64\n",
      " 6   description   1953 non-null   object \n",
      " 7   director      1000 non-null   object \n",
      " 8   votes_count   1953 non-null   float64\n",
      " 9   total_sales   1325 non-null   float64\n",
      " 10  type          1953 non-null   object \n",
      " 11  metascore     0 non-null      float64\n",
      "dtypes: float64(5), int64(1), object(6)\n",
      "memory usage: 198.4+ KB\n",
      "<class 'pandas.core.frame.DataFrame'>\n",
      "Index: 1973 entries, 0 to 1992\n",
      "Data columns (total 11 columns):\n",
      " #   Column        Non-Null Count  Dtype  \n",
      "---  ------        --------------  -----  \n",
      " 0   title         1973 non-null   object \n",
      " 1   release_year  1973 non-null   object \n",
      " 2   runtime       1647 non-null   float64\n",
      " 3   genres        1973 non-null   object \n",
      " 4   rating        1973 non-null   float64\n",
      " 5   description   1973 non-null   object \n",
      " 6   director      1000 non-null   object \n",
      " 7   votes_count   1973 non-null   float64\n",
      " 8   total_sales   1334 non-null   float64\n",
      " 9   type          1973 non-null   object \n",
      " 10  budget        404 non-null    float64\n",
      "dtypes: float64(5), object(6)\n",
      "memory usage: 185.0+ KB\n"
     ]
    },
    {
     "name": "stderr",
     "output_type": "stream",
     "text": [
      "C:\\Users\\APIN-PC\\AppData\\Local\\Temp\\ipykernel_22216\\2639096854.py:15: SettingWithCopyWarning: \n",
      "A value is trying to be set on a copy of a slice from a DataFrame.\n",
      "Try using .loc[row_indexer,col_indexer] = value instead\n",
      "\n",
      "See the caveats in the documentation: https://pandas.pydata.org/pandas-docs/stable/user_guide/indexing.html#returning-a-view-versus-a-copy\n",
      "  joined_df['runtime'] = joined_df['runtime'].astype(str).str.extract(r'(\\d+)') # Extract only integer value.\n",
      "C:\\Users\\APIN-PC\\AppData\\Local\\Temp\\ipykernel_22216\\2639096854.py:16: SettingWithCopyWarning: \n",
      "A value is trying to be set on a copy of a slice from a DataFrame.\n",
      "Try using .loc[row_indexer,col_indexer] = value instead\n",
      "\n",
      "See the caveats in the documentation: https://pandas.pydata.org/pandas-docs/stable/user_guide/indexing.html#returning-a-view-versus-a-copy\n",
      "  joined_df['runtime'] = pd.to_numeric(joined_df['runtime'], errors='coerce') # Change column to numeric\n",
      "C:\\Users\\APIN-PC\\AppData\\Local\\Temp\\ipykernel_22216\\2639096854.py:17: SettingWithCopyWarning: \n",
      "A value is trying to be set on a copy of a slice from a DataFrame.\n",
      "Try using .loc[row_indexer,col_indexer] = value instead\n",
      "\n",
      "See the caveats in the documentation: https://pandas.pydata.org/pandas-docs/stable/user_guide/indexing.html#returning-a-view-versus-a-copy\n",
      "  joined_df['total_sales']= joined_df['total_sales'].astype(str).replace(r'\\,', '', regex=True).astype(float)\n",
      "C:\\Users\\APIN-PC\\AppData\\Local\\Temp\\ipykernel_22216\\2639096854.py:23: SettingWithCopyWarning: \n",
      "A value is trying to be set on a copy of a slice from a DataFrame.\n",
      "Try using .loc[row_indexer,col_indexer] = value instead\n",
      "\n",
      "See the caveats in the documentation: https://pandas.pydata.org/pandas-docs/stable/user_guide/indexing.html#returning-a-view-versus-a-copy\n",
      "  joined_df['release_year'] = joined_df['release_year'].astype(int).astype(str)\n",
      "C:\\Users\\APIN-PC\\AppData\\Local\\Temp\\ipykernel_22216\\2639096854.py:15: SettingWithCopyWarning: \n",
      "A value is trying to be set on a copy of a slice from a DataFrame.\n",
      "Try using .loc[row_indexer,col_indexer] = value instead\n",
      "\n",
      "See the caveats in the documentation: https://pandas.pydata.org/pandas-docs/stable/user_guide/indexing.html#returning-a-view-versus-a-copy\n",
      "  joined_df['runtime'] = joined_df['runtime'].astype(str).str.extract(r'(\\d+)') # Extract only integer value.\n",
      "C:\\Users\\APIN-PC\\AppData\\Local\\Temp\\ipykernel_22216\\2639096854.py:16: SettingWithCopyWarning: \n",
      "A value is trying to be set on a copy of a slice from a DataFrame.\n",
      "Try using .loc[row_indexer,col_indexer] = value instead\n",
      "\n",
      "See the caveats in the documentation: https://pandas.pydata.org/pandas-docs/stable/user_guide/indexing.html#returning-a-view-versus-a-copy\n",
      "  joined_df['runtime'] = pd.to_numeric(joined_df['runtime'], errors='coerce') # Change column to numeric\n",
      "C:\\Users\\APIN-PC\\AppData\\Local\\Temp\\ipykernel_22216\\2639096854.py:17: SettingWithCopyWarning: \n",
      "A value is trying to be set on a copy of a slice from a DataFrame.\n",
      "Try using .loc[row_indexer,col_indexer] = value instead\n",
      "\n",
      "See the caveats in the documentation: https://pandas.pydata.org/pandas-docs/stable/user_guide/indexing.html#returning-a-view-versus-a-copy\n",
      "  joined_df['total_sales']= joined_df['total_sales'].astype(str).replace(r'\\,', '', regex=True).astype(float)\n",
      "C:\\Users\\APIN-PC\\AppData\\Local\\Temp\\ipykernel_22216\\2639096854.py:23: SettingWithCopyWarning: \n",
      "A value is trying to be set on a copy of a slice from a DataFrame.\n",
      "Try using .loc[row_indexer,col_indexer] = value instead\n",
      "\n",
      "See the caveats in the documentation: https://pandas.pydata.org/pandas-docs/stable/user_guide/indexing.html#returning-a-view-versus-a-copy\n",
      "  joined_df['release_year'] = joined_df['release_year'].astype(int).astype(str)\n"
     ]
    }
   ],
   "source": [
    "ab = transform_df(new_joined_df)\n",
    "ac = transform_df(joined_df)\n",
    "ab.info()\n",
    "ac.info()"
   ]
  },
  {
   "cell_type": "code",
   "execution_count": 77,
   "metadata": {},
   "outputs": [
    {
     "data": {
      "text/plain": [
       "array(['1994', '1972', '2008', '1974', '1957', '2003', '1993', '2010',\n",
       "       '1999', '2001', '1966', '2002', '1990', '1980', '1975', '2020',\n",
       "       '2019', '2014', '1998', '1997', '1995', '1991', '1977', '1962',\n",
       "       '1954', '1946', '2011', '2006', '2000', '1988', '1985', '1968',\n",
       "       '1960', '1942', '1936', '1931', '2018', '2017', '2016', '2012',\n",
       "       '2009', '2007', '1984', '1981', '1979', '1971', '1963', '1964',\n",
       "       '1950', '1940', '2013', '2005', '2004', '1992', '1987', '1986',\n",
       "       '1983', '1976', '1973', '1965', '1959', '1958', '1952', '1948',\n",
       "       '1944', '1941', '1927', '1921', '2015', '1996', '1989', '1978',\n",
       "       '1961', '1955', '1953', '1925', '1924', '1982', '1967', '1951',\n",
       "       '1949', '1939', '1937', '1934', '1928', '1926', '1920', '1970',\n",
       "       '1969', '1956', '1947', '1945', '1930', '1938', '1935', '1933',\n",
       "       '1932', '1922', '1943', '2023', '2024', '2022', '2021', '2025'],\n",
       "      dtype=object)"
      ]
     },
     "execution_count": 77,
     "metadata": {},
     "output_type": "execute_result"
    }
   ],
   "source": [
    "ab.release_year.unique()"
   ]
  },
  {
   "cell_type": "code",
   "execution_count": 59,
   "metadata": {},
   "outputs": [
    {
     "data": {
      "text/html": [
       "<div>\n",
       "<style scoped>\n",
       "    .dataframe tbody tr th:only-of-type {\n",
       "        vertical-align: middle;\n",
       "    }\n",
       "\n",
       "    .dataframe tbody tr th {\n",
       "        vertical-align: top;\n",
       "    }\n",
       "\n",
       "    .dataframe thead th {\n",
       "        text-align: right;\n",
       "    }\n",
       "</style>\n",
       "<table border=\"1\" class=\"dataframe\">\n",
       "  <thead>\n",
       "    <tr style=\"text-align: right;\">\n",
       "      <th></th>\n",
       "      <th>Unnamed: 0</th>\n",
       "      <th>title</th>\n",
       "      <th>release_year</th>\n",
       "      <th>runtime</th>\n",
       "      <th>genres</th>\n",
       "      <th>rating</th>\n",
       "      <th>description</th>\n",
       "      <th>director</th>\n",
       "      <th>votes_count</th>\n",
       "      <th>total_sales</th>\n",
       "      <th>type</th>\n",
       "      <th>metascore</th>\n",
       "    </tr>\n",
       "  </thead>\n",
       "  <tbody>\n",
       "  </tbody>\n",
       "</table>\n",
       "</div>"
      ],
      "text/plain": [
       "Empty DataFrame\n",
       "Columns: [Unnamed: 0, title, release_year, runtime, genres, rating, description, director, votes_count, total_sales, type, metascore]\n",
       "Index: []"
      ]
     },
     "execution_count": 59,
     "metadata": {},
     "output_type": "execute_result"
    }
   ],
   "source": [
    "from pandas import NA\n",
    "\n",
    "\n",
    "ab.release_year.isna().sum()\n",
    "\n",
    "ab.loc[ab['release_year'] == 'None']"
   ]
  },
  {
   "cell_type": "code",
   "execution_count": 55,
   "metadata": {},
   "outputs": [
    {
     "data": {
      "text/plain": [
       "array([1994.0, 1972.0, 2008.0, 1974.0, 1957.0, 2003.0, 1993.0, 2010.0,\n",
       "       1999.0, 2001.0, 1966.0, 2002.0, 1990.0, 1980.0, 1975.0, 2020.0,\n",
       "       2019.0, 2014.0, 1998.0, 1997.0, 1995.0, 1991.0, 1977.0, 1962.0,\n",
       "       1954.0, 1946.0, 2011.0, 2006.0, 2000.0, 1988.0, 1985.0, 1968.0,\n",
       "       1960.0, 1942.0, 1936.0, 1931.0, 2018.0, 2017.0, 2016.0, 2012.0,\n",
       "       2009.0, 2007.0, 1984.0, 1981.0, 1979.0, 1971.0, 1963.0, 1964.0,\n",
       "       1950.0, 1940.0, 2013.0, 2005.0, 2004.0, 1992.0, 1987.0, 1986.0,\n",
       "       1983.0, 1976.0, 1973.0, 1965.0, 1959.0, 1958.0, 1952.0, 1948.0,\n",
       "       1944.0, 1941.0, 1927.0, 1921.0, 2015.0, 1996.0, 1989.0, 1978.0,\n",
       "       1961.0, 1955.0, 1953.0, 1925.0, 1924.0, 1982.0, 1967.0, 1951.0,\n",
       "       1949.0, 1939.0, 1937.0, 1934.0, 1928.0, 1926.0, 1920.0, 1970.0,\n",
       "       1969.0, 1956.0, 1947.0, 1945.0, 1930.0, 1938.0, 1935.0, 1933.0,\n",
       "       1932.0, 1922.0, 1943.0, 2023.0, 2024.0, 2022.0, 2021.0, 2025.0,\n",
       "       nan], dtype=object)"
      ]
     },
     "execution_count": 55,
     "metadata": {},
     "output_type": "execute_result"
    }
   ],
   "source": [
    "ab['release_year'].unique()"
   ]
  },
  {
   "cell_type": "code",
   "execution_count": null,
   "metadata": {},
   "outputs": [],
   "source": [
    "\n"
   ]
  },
  {
   "cell_type": "code",
   "execution_count": null,
   "metadata": {},
   "outputs": [],
   "source": []
  },
  {
   "cell_type": "code",
   "execution_count": null,
   "metadata": {},
   "outputs": [],
   "source": [
    "joined_df[joined_df['type'] == 'tvSeries'] "
   ]
  },
  {
   "cell_type": "markdown",
   "metadata": {},
   "source": [
    "I intentionally left missing values so as to show some peculiarities of the scraped data.\n",
    "E.g Type column consists of -> movie, tvseries and tvshortseries, \n",
    "Only movie have record for runtime. Both tvseries and tvshortseries are null. \n",
    "It could mean that tvseries are still running or that the IMDb does not keep record of series runtime. "
   ]
  },
  {
   "cell_type": "code",
   "execution_count": null,
   "metadata": {},
   "outputs": [
    {
     "data": {
      "text/plain": [
       "Index(['title', 'release_year', 'runtime', 'genres', 'rating', 'description',\n",
       "       'director', 'votes_count', 'total_sales', 'type', 'budget'],\n",
       "      dtype='object')"
      ]
     },
     "execution_count": 61,
     "metadata": {},
     "output_type": "execute_result"
    }
   ],
   "source": [
    "joined_df.columns\n"
   ]
  },
  {
   "cell_type": "code",
   "execution_count": 62,
   "metadata": {},
   "outputs": [
    {
     "data": {
      "text/plain": [
       "Index(['Unnamed: 0', 'title', 'release_year', 'runtime', 'genres', 'rating',\n",
       "       'description', 'director', 'votes_count', 'total_sales', 'type',\n",
       "       'metascore'],\n",
       "      dtype='object')"
      ]
     },
     "execution_count": 62,
     "metadata": {},
     "output_type": "execute_result"
    }
   ],
   "source": [
    "ab.columns"
   ]
  }
 ],
 "metadata": {
  "kernelspec": {
   "display_name": ".venv",
   "language": "python",
   "name": "python3"
  },
  "language_info": {
   "codemirror_mode": {
    "name": "ipython",
    "version": 3
   },
   "file_extension": ".py",
   "mimetype": "text/x-python",
   "name": "python",
   "nbconvert_exporter": "python",
   "pygments_lexer": "ipython3",
   "version": "3.13.2"
  }
 },
 "nbformat": 4,
 "nbformat_minor": 2
}
