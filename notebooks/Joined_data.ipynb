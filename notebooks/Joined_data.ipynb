{
 "cells": [
  {
   "cell_type": "markdown",
   "metadata": {},
   "source": [
    "## Data Loading"
   ]
  },
  {
   "cell_type": "code",
   "execution_count": 1,
   "metadata": {},
   "outputs": [],
   "source": [
    "import pandas as pd\n",
    "pd.set_option(\"display.max_columns\", None)"
   ]
  },
  {
   "cell_type": "code",
   "execution_count": 5,
   "metadata": {},
   "outputs": [],
   "source": [
    "joined_df = pd.read_csv(r'../data/joined_df.csv')"
   ]
  },
  {
   "cell_type": "markdown",
   "metadata": {},
   "source": [
    "#### Transformations Needed\n",
    "- `Convert runtime to integer.`\n",
    "- `Convert total sales to float`\n",
    "- `Drop other missing values`\n",
    "- `Convert release year to date (year)- left as string limited to 4 letters.`\n",
    "- `Dropping budget column?`\n"
   ]
  },
  {
   "cell_type": "markdown",
   "metadata": {},
   "source": [
    "## Summarized Transformations"
   ]
  },
  {
   "cell_type": "code",
   "execution_count": 9,
   "metadata": {},
   "outputs": [],
   "source": [
    "def transform_df(data) -> pd.DataFrame:\n",
    "    \"\"\"\n",
    "    Transform joined dataframe \n",
    "    Returns:\n",
    "        _type_: _description_\n",
    "    \"\"\"\n",
    "    joined_df = data\n",
    "    joined_df = joined_df.dropna(\n",
    "        subset=[\"votes_count\", \"rating\", \"description\", \"release_year\"]\n",
    "    )\n",
    "    joined_df[\"runtime\"] = joined_df[\"runtime\"].astype(str).str.extract(r\"(\\d+)\")\n",
    "    joined_df[\"runtime\"] = pd.to_numeric(joined_df[\"runtime\"], errors=\"coerce\")\n",
    "    joined_df[\"total_sales\"] = (\n",
    "        joined_df[\"total_sales\"].astype(str).replace(r\"\\,\", \"\", regex=True)\n",
    "    )\n",
    "    joined_df[\"total_sales\"] = pd.to_numeric(joined_df[\"total_sales\"], errors=\"coerce\")\n",
    "    joined_df.loc[joined_df[\"release_year\"] == \"PG\", \"release_year\"] = \"1995\"\n",
    "    joined_df[\"release_year\"] = joined_df[\"release_year\"].astype(int).astype(str)\n",
    "\n",
    "    joined_df[\"rating\"] = joined_df[\"rating\"].astype(float)\n",
    "    joined_df[\"votes_count\"] = joined_df[\"votes_count\"].astype(float)\n",
    "    cols_to_drop = [\"budget, metascore\"]\n",
    "    for col in cols_to_drop:\n",
    "        if col in joined_df.columns.to_list():\n",
    "            joined_df = joined_df.drop(columns=col)\n",
    "    return joined_df"
   ]
  },
  {
   "cell_type": "markdown",
   "metadata": {},
   "source": [
    "## Data Preview"
   ]
  },
  {
   "cell_type": "code",
   "execution_count": 14,
   "metadata": {},
   "outputs": [
    {
     "name": "stdout",
     "output_type": "stream",
     "text": [
      "<class 'pandas.core.frame.DataFrame'>\n",
      "Index: 1672 entries, 0 to 1691\n",
      "Data columns (total 10 columns):\n",
      " #   Column        Non-Null Count  Dtype  \n",
      "---  ------        --------------  -----  \n",
      " 0   title         1672 non-null   object \n",
      " 1   release_year  1672 non-null   object \n",
      " 2   runtime       1359 non-null   float64\n",
      " 3   genres        1666 non-null   object \n",
      " 4   rating        1672 non-null   float64\n",
      " 5   description   1672 non-null   object \n",
      " 6   director      999 non-null    object \n",
      " 7   votes_count   1672 non-null   float64\n",
      " 8   total_sales   1050 non-null   float64\n",
      " 9   type          1672 non-null   object \n",
      "dtypes: float64(4), object(6)\n",
      "memory usage: 143.7+ KB\n"
     ]
    },
    {
     "name": "stderr",
     "output_type": "stream",
     "text": [
      "C:\\Users\\APIN-PC\\AppData\\Local\\Temp\\ipykernel_27316\\1518329374.py:11: SettingWithCopyWarning: \n",
      "A value is trying to be set on a copy of a slice from a DataFrame.\n",
      "Try using .loc[row_indexer,col_indexer] = value instead\n",
      "\n",
      "See the caveats in the documentation: https://pandas.pydata.org/pandas-docs/stable/user_guide/indexing.html#returning-a-view-versus-a-copy\n",
      "  joined_df[\"runtime\"] = joined_df[\"runtime\"].astype(str).str.extract(r\"(\\d+)\")\n",
      "C:\\Users\\APIN-PC\\AppData\\Local\\Temp\\ipykernel_27316\\1518329374.py:12: SettingWithCopyWarning: \n",
      "A value is trying to be set on a copy of a slice from a DataFrame.\n",
      "Try using .loc[row_indexer,col_indexer] = value instead\n",
      "\n",
      "See the caveats in the documentation: https://pandas.pydata.org/pandas-docs/stable/user_guide/indexing.html#returning-a-view-versus-a-copy\n",
      "  joined_df[\"runtime\"] = pd.to_numeric(joined_df[\"runtime\"], errors=\"coerce\")\n",
      "C:\\Users\\APIN-PC\\AppData\\Local\\Temp\\ipykernel_27316\\1518329374.py:13: SettingWithCopyWarning: \n",
      "A value is trying to be set on a copy of a slice from a DataFrame.\n",
      "Try using .loc[row_indexer,col_indexer] = value instead\n",
      "\n",
      "See the caveats in the documentation: https://pandas.pydata.org/pandas-docs/stable/user_guide/indexing.html#returning-a-view-versus-a-copy\n",
      "  joined_df[\"total_sales\"] = (\n",
      "C:\\Users\\APIN-PC\\AppData\\Local\\Temp\\ipykernel_27316\\1518329374.py:16: SettingWithCopyWarning: \n",
      "A value is trying to be set on a copy of a slice from a DataFrame.\n",
      "Try using .loc[row_indexer,col_indexer] = value instead\n",
      "\n",
      "See the caveats in the documentation: https://pandas.pydata.org/pandas-docs/stable/user_guide/indexing.html#returning-a-view-versus-a-copy\n",
      "  joined_df[\"total_sales\"] = pd.to_numeric(joined_df[\"total_sales\"], errors=\"coerce\")\n",
      "C:\\Users\\APIN-PC\\AppData\\Local\\Temp\\ipykernel_27316\\1518329374.py:18: SettingWithCopyWarning: \n",
      "A value is trying to be set on a copy of a slice from a DataFrame.\n",
      "Try using .loc[row_indexer,col_indexer] = value instead\n",
      "\n",
      "See the caveats in the documentation: https://pandas.pydata.org/pandas-docs/stable/user_guide/indexing.html#returning-a-view-versus-a-copy\n",
      "  joined_df[\"release_year\"] = joined_df[\"release_year\"].astype(int).astype(str)\n",
      "C:\\Users\\APIN-PC\\AppData\\Local\\Temp\\ipykernel_27316\\1518329374.py:20: SettingWithCopyWarning: \n",
      "A value is trying to be set on a copy of a slice from a DataFrame.\n",
      "Try using .loc[row_indexer,col_indexer] = value instead\n",
      "\n",
      "See the caveats in the documentation: https://pandas.pydata.org/pandas-docs/stable/user_guide/indexing.html#returning-a-view-versus-a-copy\n",
      "  joined_df[\"rating\"] = joined_df[\"rating\"].astype(float)\n",
      "C:\\Users\\APIN-PC\\AppData\\Local\\Temp\\ipykernel_27316\\1518329374.py:21: SettingWithCopyWarning: \n",
      "A value is trying to be set on a copy of a slice from a DataFrame.\n",
      "Try using .loc[row_indexer,col_indexer] = value instead\n",
      "\n",
      "See the caveats in the documentation: https://pandas.pydata.org/pandas-docs/stable/user_guide/indexing.html#returning-a-view-versus-a-copy\n",
      "  joined_df[\"votes_count\"] = joined_df[\"votes_count\"].astype(float)\n"
     ]
    }
   ],
   "source": [
    "ac = transform_df(joined_df)\n",
    "ac = ac.drop(columns=['Unnamed: 0.1', 'Unnamed: 0'])\n",
    "ac.info()"
   ]
  },
  {
   "cell_type": "code",
   "execution_count": 15,
   "metadata": {},
   "outputs": [
    {
     "data": {
      "text/html": [
       "<div>\n",
       "<style scoped>\n",
       "    .dataframe tbody tr th:only-of-type {\n",
       "        vertical-align: middle;\n",
       "    }\n",
       "\n",
       "    .dataframe tbody tr th {\n",
       "        vertical-align: top;\n",
       "    }\n",
       "\n",
       "    .dataframe thead th {\n",
       "        text-align: right;\n",
       "    }\n",
       "</style>\n",
       "<table border=\"1\" class=\"dataframe\">\n",
       "  <thead>\n",
       "    <tr style=\"text-align: right;\">\n",
       "      <th></th>\n",
       "      <th>title</th>\n",
       "      <th>release_year</th>\n",
       "      <th>runtime</th>\n",
       "      <th>genres</th>\n",
       "      <th>rating</th>\n",
       "      <th>description</th>\n",
       "      <th>director</th>\n",
       "      <th>votes_count</th>\n",
       "      <th>total_sales</th>\n",
       "      <th>type</th>\n",
       "    </tr>\n",
       "  </thead>\n",
       "  <tbody>\n",
       "    <tr>\n",
       "      <th>0</th>\n",
       "      <td>The Shawshank Redemption</td>\n",
       "      <td>1994</td>\n",
       "      <td>142.0</td>\n",
       "      <td>Drama</td>\n",
       "      <td>9.3</td>\n",
       "      <td>Two imprisoned men bond over a number of years...</td>\n",
       "      <td>Frank Darabont</td>\n",
       "      <td>2343110.0</td>\n",
       "      <td>28341469.0</td>\n",
       "      <td>movie</td>\n",
       "    </tr>\n",
       "    <tr>\n",
       "      <th>1</th>\n",
       "      <td>The Godfather</td>\n",
       "      <td>1972</td>\n",
       "      <td>175.0</td>\n",
       "      <td>Crime, Drama</td>\n",
       "      <td>9.2</td>\n",
       "      <td>An organized crime dynasty's aging patriarch t...</td>\n",
       "      <td>Francis Ford Coppola</td>\n",
       "      <td>1620367.0</td>\n",
       "      <td>134966411.0</td>\n",
       "      <td>movie</td>\n",
       "    </tr>\n",
       "  </tbody>\n",
       "</table>\n",
       "</div>"
      ],
      "text/plain": [
       "                      title release_year  runtime        genres  rating  \\\n",
       "0  The Shawshank Redemption         1994    142.0         Drama     9.3   \n",
       "1             The Godfather         1972    175.0  Crime, Drama     9.2   \n",
       "\n",
       "                                         description              director  \\\n",
       "0  Two imprisoned men bond over a number of years...        Frank Darabont   \n",
       "1  An organized crime dynasty's aging patriarch t...  Francis Ford Coppola   \n",
       "\n",
       "   votes_count  total_sales   type  \n",
       "0    2343110.0   28341469.0  movie  \n",
       "1    1620367.0  134966411.0  movie  "
      ]
     },
     "execution_count": 15,
     "metadata": {},
     "output_type": "execute_result"
    }
   ],
   "source": [
    "ac.head(2)"
   ]
  },
  {
   "cell_type": "code",
   "execution_count": 11,
   "metadata": {},
   "outputs": [
    {
     "data": {
      "text/plain": [
       "array(['1994', '1972', '2008', '1974', '1957', '2003', '1993', '2010',\n",
       "       '1999', '2001', '1966', '2002', '1990', '1980', '1975', '2020',\n",
       "       '2019', '2014', '1998', '1997', '1995', '1991', '1977', '1962',\n",
       "       '1954', '1946', '2011', '2006', '2000', '1988', '1985', '1968',\n",
       "       '1960', '1942', '1936', '1931', '2018', '2017', '2016', '2012',\n",
       "       '2009', '2007', '1984', '1981', '1979', '1971', '1963', '1964',\n",
       "       '1950', '1940', '2013', '2005', '2004', '1992', '1987', '1986',\n",
       "       '1983', '1976', '1973', '1965', '1959', '1958', '1952', '1948',\n",
       "       '1944', '1941', '1927', '1921', '2015', '1996', '1989', '1978',\n",
       "       '1961', '1955', '1953', '1925', '1924', '1982', '1967', '1951',\n",
       "       '1949', '1939', '1937', '1934', '1928', '1926', '1920', '1970',\n",
       "       '1969', '1956', '1947', '1945', '1930', '1938', '1935', '1933',\n",
       "       '1932', '1922', '1943', '2023', '2024', '2022', '2021', '2025'],\n",
       "      dtype=object)"
      ]
     },
     "execution_count": 11,
     "metadata": {},
     "output_type": "execute_result"
    }
   ],
   "source": [
    "ac.release_year.unique()"
   ]
  },
  {
   "cell_type": "code",
   "execution_count": 20,
   "metadata": {},
   "outputs": [
    {
     "data": {
      "text/html": [
       "<div>\n",
       "<style scoped>\n",
       "    .dataframe tbody tr th:only-of-type {\n",
       "        vertical-align: middle;\n",
       "    }\n",
       "\n",
       "    .dataframe tbody tr th {\n",
       "        vertical-align: top;\n",
       "    }\n",
       "\n",
       "    .dataframe thead th {\n",
       "        text-align: right;\n",
       "    }\n",
       "</style>\n",
       "<table border=\"1\" class=\"dataframe\">\n",
       "  <thead>\n",
       "    <tr style=\"text-align: right;\">\n",
       "      <th></th>\n",
       "      <th>title</th>\n",
       "      <th>release_year</th>\n",
       "      <th>runtime</th>\n",
       "      <th>genres</th>\n",
       "      <th>rating</th>\n",
       "      <th>description</th>\n",
       "      <th>director</th>\n",
       "      <th>votes_count</th>\n",
       "      <th>total_sales</th>\n",
       "      <th>type</th>\n",
       "    </tr>\n",
       "  </thead>\n",
       "  <tbody>\n",
       "    <tr>\n",
       "      <th>1030</th>\n",
       "      <td>Breaking Bad</td>\n",
       "      <td>2008</td>\n",
       "      <td>NaN</td>\n",
       "      <td>Crime, Drama, Thriller</td>\n",
       "      <td>9.5</td>\n",
       "      <td>A chemistry teacher diagnosed with inoperable ...</td>\n",
       "      <td>NaN</td>\n",
       "      <td>2361775.0</td>\n",
       "      <td>NaN</td>\n",
       "      <td>tvSeries</td>\n",
       "    </tr>\n",
       "    <tr>\n",
       "      <th>1035</th>\n",
       "      <td>The Wire</td>\n",
       "      <td>2002</td>\n",
       "      <td>NaN</td>\n",
       "      <td>Crime, Drama, Thriller</td>\n",
       "      <td>9.3</td>\n",
       "      <td>The Baltimore drug scene, as seen through the ...</td>\n",
       "      <td>NaN</td>\n",
       "      <td>407612.0</td>\n",
       "      <td>NaN</td>\n",
       "      <td>tvSeries</td>\n",
       "    </tr>\n",
       "  </tbody>\n",
       "</table>\n",
       "</div>"
      ],
      "text/plain": [
       "             title release_year  runtime                  genres  rating  \\\n",
       "1030  Breaking Bad         2008      NaN  Crime, Drama, Thriller     9.5   \n",
       "1035      The Wire         2002      NaN  Crime, Drama, Thriller     9.3   \n",
       "\n",
       "                                            description director  votes_count  \\\n",
       "1030  A chemistry teacher diagnosed with inoperable ...      NaN    2361775.0   \n",
       "1035  The Baltimore drug scene, as seen through the ...      NaN     407612.0   \n",
       "\n",
       "      total_sales      type  \n",
       "1030          NaN  tvSeries  \n",
       "1035          NaN  tvSeries  "
      ]
     },
     "execution_count": 20,
     "metadata": {},
     "output_type": "execute_result"
    }
   ],
   "source": [
    "joined_df[joined_df['type'] == 'tvSeries'] \n",
    "\n",
    "ac[ac['type'] == 'tvSeries'].head(2)"
   ]
  },
  {
   "cell_type": "markdown",
   "metadata": {},
   "source": [
    "I intentionally left missing values so as to show some peculiarities of the scraped data.\n",
    "E.g Type column consists of -> movie, tvseries and tvshortseries, \n",
    "Only movie have record for runtime. Both tvseries and tvshortseries are null. \n",
    "It could mean that tvseries are still running or that the IMDb APIs does not keep record of series runtime. "
   ]
  }
 ],
 "metadata": {
  "kernelspec": {
   "display_name": "src-py3.13",
   "language": "python",
   "name": "python3"
  },
  "language_info": {
   "codemirror_mode": {
    "name": "ipython",
    "version": 3
   },
   "file_extension": ".py",
   "mimetype": "text/x-python",
   "name": "python",
   "nbconvert_exporter": "python",
   "pygments_lexer": "ipython3",
   "version": "3.13.5"
  }
 },
 "nbformat": 4,
 "nbformat_minor": 2
}
